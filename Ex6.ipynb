{
 "cells": [
  {
   "cell_type": "markdown",
   "metadata": {},
   "source": [
    "## <u><b>Exercice 6 :</b></u>"
   ]
  },
  {
   "cell_type": "code",
   "execution_count": null,
   "metadata": {},
   "outputs": [],
   "source": [
    "from random import *\n",
    "\n",
    "def echantillon(n):\n",
    "    nombre=0\n",
    "    for i in range(...):\n",
    "        r=random()\n",
    "        if ...............:\n",
    "            nombre=nombre+1\n",
    "    return ...............\n",
    "\n",
    "from math import *\n",
    "\n",
    "def Nechantillon(N,n):\n",
    "    compteur=0\n",
    "    for i in range(N):\n",
    "        f=echantillon(n)\n",
    "        if abs(f-0.66)<=1/sqrt(n):\n",
    "            compteur=compteur+1\n",
    "    return compteur/N"
   ]
  },
  {
   "cell_type": "markdown",
   "metadata": {},
   "source": [
    "Compléter le script ci-dessus puis exécuter ce script en appuyant sur le bouton \"Exécuter\" du menu.\n",
    "\n",
    "Utiliser la console ci-dessous pour exécuter les instructions souhaitée : écrire une instruction puis cliquer sur le bouton \"Exécuter\"."
   ]
  },
  {
   "cell_type": "code",
   "execution_count": null,
   "metadata": {},
   "outputs": [],
   "source": []
  }
 ],
 "metadata": {
  "kernelspec": {
   "display_name": "Python 3",
   "language": "python",
   "name": "python3"
  },
  "language_info": {
   "codemirror_mode": {
    "name": "ipython",
    "version": 3
   },
   "file_extension": ".py",
   "mimetype": "text/x-python",
   "name": "python",
   "nbconvert_exporter": "python",
   "pygments_lexer": "ipython3",
   "version": "3.7.6"
  }
 },
 "nbformat": 4,
 "nbformat_minor": 4
}
