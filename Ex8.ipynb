{
 "cells": [
  {
   "cell_type": "markdown",
   "metadata": {},
   "source": [
    "## <u>Exercice 8 :</u>"
   ]
  },
  {
   "cell_type": "code",
   "execution_count": null,
   "metadata": {},
   "outputs": [],
   "source": [
    "from random import *\n",
    "\n",
    "def tirage():\n",
    "    urne=list(range(1,50))\n",
    "    L=[]\n",
    "    for i in range(5):\n",
    "        a=choice(urne)\n",
    "        L.append(a)\n",
    "        urne.remove(a)\n",
    "    L.sort()\n",
    "    b=randint(1,10)\n",
    "    L.append(b)\n",
    "    return L\n",
    "\n",
    "def resultat():\n",
    "    L=tirage()\n",
    "    Mise=[1,2,3,4,5,6]\n",
    "    if L==Mise:\n",
    "        return 1\n",
    "    else:\n",
    "        return 0\n",
    "    \n",
    "def deuxMillionsTirages():\n"
   ]
  },
  {
   "cell_type": "markdown",
   "metadata": {},
   "source": [
    "Compléter le script ci-dessus avec le corps de la dernière fonction puis exécuter ce script en appuyant sur le bouton \"Exécuter\" du menu.\n",
    "\n",
    "Utiliser la console ci-dessous pour exécuter les instructions souhaitée : écrire une instruction puis cliquer sur le bouton \"Exécuter\" (le résultat peut être long à apparaître, c'est normal)."
   ]
  },
  {
   "cell_type": "code",
   "execution_count": null,
   "metadata": {},
   "outputs": [],
   "source": []
  }
 ],
 "metadata": {
  "kernelspec": {
   "display_name": "Python 3",
   "language": "python",
   "name": "python3"
  },
  "language_info": {
   "codemirror_mode": {
    "name": "ipython",
    "version": 3
   },
   "file_extension": ".py",
   "mimetype": "text/x-python",
   "name": "python",
   "nbconvert_exporter": "python",
   "pygments_lexer": "ipython3",
   "version": "3.7.6"
  }
 },
 "nbformat": 4,
 "nbformat_minor": 4
}
